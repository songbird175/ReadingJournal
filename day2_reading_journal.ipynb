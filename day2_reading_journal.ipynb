{
 "cells": [
  {
   "cell_type": "markdown",
   "metadata": {},
   "source": [
    "# Day 2 Reading Journal\n",
    "\n",
    "This journal includes several required exercises, but it is meant to encourage active reading more generally.  You should use the journal to take detailed notes, catalog questions, and explore the content from Think Python deeply.\n",
    "\n",
    "Reading: Think Python Chapter 6.1-6.4, 7\n",
    "\n",
    "**Due: Thursday, January 28 at 12 noon**\n",
    "\n"
   ]
  },
  {
   "cell_type": "markdown",
   "metadata": {},
   "source": [
    "## [Chapter 6.1-6.4](http://www.greenteapress.com/thinkpython/html/thinkpython007.html)\n",
    "\n",
    "Note: the exercise numbers below match up with the reading for ease of cross referencing."
   ]
  },
  {
   "cell_type": "markdown",
   "metadata": {},
   "source": [
    "**Quick check:** What is a _fruitful function_?"
   ]
  },
  {
   "cell_type": "markdown",
   "metadata": {},
   "source": [
    "A fruitful function is one in which the return statement includes an expression which is immediately returned as a return value. "
   ]
  },
  {
   "cell_type": "markdown",
   "metadata": {},
   "source": [
    "### Exercise 1  \n",
    "Write a `compare` function that returns `1` if `x > y`, `0` if `x == y`, and `-1` if `x < y`."
   ]
  },
  {
   "cell_type": "code",
   "execution_count": 2,
   "metadata": {
    "collapsed": false
   },
   "outputs": [
    {
     "name": "stdout",
     "output_type": "stream",
     "text": [
      "-1\n"
     ]
    }
   ],
   "source": [
    "def comparison(x, y):\n",
    "\tif x > y:\n",
    "\t\treturn 1\n",
    "\telif x == y:\n",
    "\t\treturn 0\n",
    "\telif x < y:\n",
    "\t\treturn -1\n",
    "\n",
    "print comparison(1, 2)"
   ]
  },
  {
   "cell_type": "markdown",
   "metadata": {},
   "source": [
    "**Quick check:** Modify the `absolute_value` function so that it returns the correct result for all integer inputs."
   ]
  },
  {
   "cell_type": "code",
   "execution_count": 3,
   "metadata": {
    "collapsed": true
   },
   "outputs": [],
   "source": [
    "def absolute_value(x):\n",
    "    if x < 0:\n",
    "        return -x\n",
    "    if x >= 0:\n",
    "        return x"
   ]
  },
  {
   "cell_type": "markdown",
   "metadata": {},
   "source": [
    "### Exercise 2  \n",
    "Use incremental development to write a function called `hypotenuse` that returns the length of the hypotenuse of a right triangle given the lengths of the two legs as arguments. Record each stage of the development process as you go, using as many cells as you need."
   ]
  },
  {
   "cell_type": "code",
   "execution_count": 4,
   "metadata": {
    "collapsed": false
   },
   "outputs": [
    {
     "name": "stdout",
     "output_type": "stream",
     "text": [
      "9 16\n"
     ]
    }
   ],
   "source": [
    "def hypotenuse(a, b):\n",
    "\t#square both inputs\n",
    "\tleg1_sq = a**2\n",
    "\tleg2_sq = b**2\n",
    "\t#test that that worked\n",
    "\tprint leg1_sq, leg2_sq\n",
    "\n",
    "hypotenuse(3, 4)"
   ]
  },
  {
   "cell_type": "code",
   "execution_count": 6,
   "metadata": {
    "collapsed": false
   },
   "outputs": [
    {
     "name": "stdout",
     "output_type": "stream",
     "text": [
      "25\n"
     ]
    }
   ],
   "source": [
    "def hypotenuse(a, b):\n",
    "\t#square both inputs\n",
    "\tleg1_sq = a**2\n",
    "\tleg2_sq = b**2\n",
    "\t#add the legs\n",
    "\thyp_sq = leg1_sq + leg2_sq\n",
    "\t#test that\n",
    "\tprint hyp_sq\n",
    "    \n",
    "hypotenuse(3, 4)"
   ]
  },
  {
   "cell_type": "code",
   "execution_count": 7,
   "metadata": {
    "collapsed": false
   },
   "outputs": [
    {
     "name": "stdout",
     "output_type": "stream",
     "text": [
      "1\n"
     ]
    }
   ],
   "source": [
    "def hypotenuse(a, b):\n",
    "\t#square both inputs\n",
    "\tleg1_sq = a**2\n",
    "\tleg2_sq = b**2\n",
    "\t#add the legs\n",
    "\thyp_sq = leg1_sq + leg2_sq\n",
    "\t#take the square root to find the hypotenuse length\n",
    "\thyp_length = hyp_sq**(1/2)\n",
    "\treturn hyp_length\n",
    "\n",
    "print hypotenuse(3, 4)"
   ]
  },
  {
   "cell_type": "markdown",
   "metadata": {},
   "source": [
    "Why is it returning 1?? I'm confused."
   ]
  },
  {
   "cell_type": "code",
   "execution_count": 8,
   "metadata": {
    "collapsed": false
   },
   "outputs": [
    {
     "name": "stdout",
     "output_type": "stream",
     "text": [
      "1\n"
     ]
    }
   ],
   "source": [
    "def hypotenuse(a, b):\n",
    "\t#square both inputs\n",
    "\tleg1_sq = a**2\n",
    "\tleg2_sq = b**2\n",
    "\t#add the legs\n",
    "\thyp_sq = leg1_sq + leg2_sq\n",
    "\t#take the square root to find the hypotenuse length\n",
    "#\thyp_length = hyp_sq**(1/2)\n",
    "#\treturn hyp_length\n",
    "\t#test what **(1/2) is returning\n",
    "\treturn leg1_sq**(1/2)\n",
    "\n",
    "print hypotenuse(3, 4)"
   ]
  },
  {
   "cell_type": "markdown",
   "metadata": {},
   "source": [
    "Ok, that's really confusing. Oh!!! Floats!!! Duh, ok that should make a difference."
   ]
  },
  {
   "cell_type": "code",
   "execution_count": 9,
   "metadata": {
    "collapsed": false
   },
   "outputs": [
    {
     "name": "stdout",
     "output_type": "stream",
     "text": [
      "5.0\n"
     ]
    }
   ],
   "source": [
    "def hypotenuse(a, b):\n",
    "\t#square both inputs\n",
    "\tleg1_sq = a**2\n",
    "\tleg2_sq = b**2\n",
    "\t#add the legs\n",
    "\thyp_sq = leg1_sq + leg2_sq\n",
    "\t#take the square root to find the hypotenuse length\n",
    "\thyp_length = hyp_sq**0.5\n",
    "\treturn hyp_length\n",
    "\n",
    "print hypotenuse(3, 4)"
   ]
  },
  {
   "cell_type": "markdown",
   "metadata": {},
   "source": [
    "Ta-da!!!"
   ]
  },
  {
   "cell_type": "markdown",
   "metadata": {},
   "source": [
    "### Exercise 3  \n",
    "Write a function `is_between(x, y, z)` that returns `True` if `x ≤ y ≤ z` or `False` otherwise."
   ]
  },
  {
   "cell_type": "code",
   "execution_count": 10,
   "metadata": {
    "collapsed": false
   },
   "outputs": [
    {
     "name": "stdout",
     "output_type": "stream",
     "text": [
      "True\n"
     ]
    }
   ],
   "source": [
    "def is_between(x, y, z):\n",
    "\tif x <= y and y <= z:\n",
    "\t\treturn True\n",
    "\telse:\n",
    "\t\treturn False\n",
    "\n",
    "print is_between(1, 2, 3)"
   ]
  },
  {
   "cell_type": "markdown",
   "metadata": {},
   "source": [
    "## [Chapter 7](http://www.greenteapress.com/thinkpython/html/thinkpython008.html)\n",
    "\n"
   ]
  },
  {
   "cell_type": "markdown",
   "metadata": {},
   "source": [
    "**Quick check:** How do you test for equality in Python?"
   ]
  },
  {
   "cell_type": "markdown",
   "metadata": {},
   "source": [
    "Use =="
   ]
  },
  {
   "cell_type": "markdown",
   "metadata": {},
   "source": [
    "Equality is symmetric, whereas assignment is not, and Python uses = for assignment."
   ]
  },
  {
   "cell_type": "markdown",
   "metadata": {},
   "source": [
    "**Challenge:** Prove/disprove the Collatz conjecture :)"
   ]
  },
  {
   "cell_type": "markdown",
   "metadata": {},
   "source": [
    "Has anyone taken the time to try disproving it? Is there any way to actually prove it? The real trick would be to find a pattern within the sequence (other than the given one)."
   ]
  },
  {
   "cell_type": "markdown",
   "metadata": {},
   "source": [
    "### Exercise 2  \n",
    "Encapsulate the loop from Section 7.5 in a function called `square_root` that takes `a` as a parameter, chooses a reasonable value of `x`, and returns an estimate of the square root of `a`."
   ]
  },
  {
   "cell_type": "code",
   "execution_count": 18,
   "metadata": {
    "collapsed": false
   },
   "outputs": [
    {
     "name": "stdout",
     "output_type": "stream",
     "text": [
      "4.0\n"
     ]
    }
   ],
   "source": [
    "def square_root(a):\n",
    "\t#a is the number to be square-rooted\n",
    "\tx = a / 2.0\n",
    "\t#x is the initial guess as to the output\n",
    "\tepsilon = 0.0000001\n",
    "\t#epsilon is that tiny number suggested in the reading\n",
    "\twhile True:\n",
    "\t\ty = (x + a/x) / 2\n",
    "\t\tif abs(y-x) < epsilon:\n",
    "\t\t\tbreak\n",
    "\t\tx = y\n",
    "\tprint y\n",
    "\n",
    "square_root(16)"
   ]
  },
  {
   "cell_type": "markdown",
   "metadata": {},
   "source": [
    "### Exercise 3  \n",
    "To test the square root algorithm you developed in Exercise 2, you could compare it with Python's `math.sqrt` function. Write a function named `test_square_root` that prints a table like this:\n",
    "\n",
    "```python\n",
    "1.0 1.0           1.0           0.0\n",
    "2.0 1.41421356237 1.41421356237 2.22044604925e-16\n",
    "3.0 1.73205080757 1.73205080757 0.0\n",
    "4.0 2.0           2.0           0.0\n",
    "5.0 2.2360679775  2.2360679775  0.0\n",
    "6.0 2.44948974278 2.44948974278 0.0\n",
    "7.0 2.64575131106 2.64575131106 0.0\n",
    "8.0 2.82842712475 2.82842712475 4.4408920985e-16\n",
    "9.0 3.0           3.0           0.0\n",
    "```\n",
    "\n",
    "The first column is a number, `a`; the second column is the square root of a computed with the function from Section 7.5; the third column is the square root computed by `math.sqrt`; the fourth column is the absolute value of the difference between the two estimates."
   ]
  },
  {
   "cell_type": "code",
   "execution_count": 21,
   "metadata": {
    "collapsed": false
   },
   "outputs": [
    {
     "name": "stdout",
     "output_type": "stream",
     "text": [
      "[[  1.00000000e+00   1.00000000e+00   1.00000000e+00   0.00000000e+00]\n",
      " [  2.00000000e+00   1.41421356e+00   1.41421356e+00   2.22044605e-16]\n",
      " [  3.00000000e+00   1.73205081e+00   1.73205081e+00   0.00000000e+00]\n",
      " [  4.00000000e+00   2.00000000e+00   2.00000000e+00   0.00000000e+00]\n",
      " [  5.00000000e+00   2.23606798e+00   2.23606798e+00   0.00000000e+00]\n",
      " [  6.00000000e+00   2.44948974e+00   2.44948974e+00   0.00000000e+00]\n",
      " [  7.00000000e+00   2.64575131e+00   2.64575131e+00   0.00000000e+00]\n",
      " [  8.00000000e+00   2.82842712e+00   2.82842712e+00   4.44089210e-16]\n",
      " [  9.00000000e+00   3.00000000e+00   3.00000000e+00   0.00000000e+00]]\n"
     ]
    }
   ],
   "source": [
    "import math\n",
    "import numpy as np\n",
    "\n",
    "#the first column is together in a list, used as function input\n",
    "NOs = [1.0, 2.0, 3.0, 4.0, 5.0, 6.0, 7.0, 8.0, 9.0]\n",
    "\n",
    "def test_square_root(NOs):\n",
    "\t#establish an empty list for the second column\n",
    "\tsqt_mine = []\n",
    "\t#this fills that list\n",
    "\tfor item in NOs:\n",
    "\t\tsqt_mine.append(square_root(item))\n",
    "\t#repeating for the third column\n",
    "\tsqt_math = []\n",
    "\tfor item in NOs:\n",
    "\t\tsqt_math.append(math.sqrt(item))\n",
    "\t#aaaand finally, the last column...\n",
    "\tcol4 = []\n",
    "\tfor i in range(0, len(NOs)):\n",
    "\t\tfirst = sqt_math[i]\n",
    "\t\tsecond = sqt_mine[i]\n",
    "\t\tcol4.append(first-second)\n",
    "\t#now to turn it all into a single array\n",
    "\tmatrix1 = np.matrix([NOs, sqt_mine, sqt_math, col4])\n",
    "\t#transpose it so the lists I made are columns, not rows\n",
    "\tmatrix_final = np.transpose(matrix1)\n",
    "\tprint matrix_final\n",
    "\n",
    "test_square_root(NOs)"
   ]
  },
  {
   "cell_type": "markdown",
   "metadata": {},
   "source": [
    "### Challenge: Exercise 5  (optional)\n",
    "The mathematician Srinivasa Ramanujan found an infinite series that can be used to generate a numerical approximation of\n",
    "$\\frac{1}{\\pi}$:\n",
    "\n",
    "$$\\frac{1}{\\pi} = \\frac{2 \\sqrt{2}}{9801} \\sum_{k=0}^{\\infty} \\frac{(4k)! (1103+26390k)}{(k!)^4 396^{4k}}$$\n",
    " \n",
    "Write a function called `estimate_pi` that uses this formula to compute and return an estimate of $\\pi$. It should use a `while` loop to compute terms of the summation until the last term is smaller than `1e-15` (which is Python notation for $10^{−15}$). You can check the result by comparing it to `math.pi`.\n",
    "\n",
    "[Possible solution](http://thinkpython.com/code/pi.py) (give the exercise a try before viewing the solution)"
   ]
  },
  {
   "cell_type": "code",
   "execution_count": null,
   "metadata": {
    "collapsed": true
   },
   "outputs": [],
   "source": []
  },
  {
   "cell_type": "markdown",
   "metadata": {},
   "source": [
    "## Reading Journal feedback\n",
    "\n",
    "Have any comments on this Reading Journal? Feel free to leave them below and we'll read them when you submit your journal entry. This could include suggestions to improve the exercises, topics you'd like to see covered in class next time, or other feedback.\n",
    "\n",
    "If you have Python questions or run into problems while completing the reading, you should post them to Piazza instead so you can get a quick response before your journal is submitted."
   ]
  },
  {
   "cell_type": "markdown",
   "metadata": {},
   "source": [
    " "
   ]
  }
 ],
 "metadata": {
  "kernelspec": {
   "display_name": "Python 2",
   "language": "python",
   "name": "python2"
  },
  "language_info": {
   "codemirror_mode": {
    "name": "ipython",
    "version": 2
   },
   "file_extension": ".py",
   "mimetype": "text/x-python",
   "name": "python",
   "nbconvert_exporter": "python",
   "pygments_lexer": "ipython2",
   "version": "2.7.3"
  }
 },
 "nbformat": 4,
 "nbformat_minor": 0
}
