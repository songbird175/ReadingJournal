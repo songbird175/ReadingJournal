{
 "cells": [
  {
   "cell_type": "markdown",
   "metadata": {},
   "source": [
    "# Day 5 Reading Journal\n",
    "\n",
    "This journal includes several required exercises, but it is meant to encourage active reading more generally.  You should use the journal to take detailed notes, catalog questions, and explore the content from Think Python deeply.\n",
    "\n",
    "Reading: Think Python Chapter 4\n",
    "\n",
    "**Due: Monday, February 8 at 12 noon**\n",
    "\n"
   ]
  },
  {
   "cell_type": "markdown",
   "metadata": {},
   "source": [
    "## [Chapter 4](http://www.greenteapress.com/thinkpython/html/thinkpython005.html)\n",
    "\n",
    "In today's reading, you'll be exploring TurtleWorld!\n",
    "TurtleWorld is part of the [swampy](http://www.greenteapress.com/thinkpython/swampy/) package, written by Allen Downey.\n",
    "As part of the [Get Set](https://sites.google.com/site/sd16spring/home/assignments-and-mini-projects/setup-your-environment) assignment, you installed the swampy package using the pip Python package management tool. If you somehow missed that step or you see errors when you try to import TurtleWorld, you can install swampy by running:\n",
    "\n",
    "```\n",
    "sudo pip install swampy\n",
    "```\n",
    "\n",
    "at the command line.\n",
    "\n",
    "### Turtle wrangling\n",
    "\n",
    "You can always run your code as separate Python scripts, but here are a few tips for mixing TurtleWorld with Jupyter notebook:\n",
    "\n",
    " - TurtleWorld will appear in a new GUI window, rather than inline in the notebook like typical results do\n",
    " - You will not be able to close the TurtleWorld window unless you run `wait_for_user()` as the last line of your code.\n",
    " - Jupyter notebook works like one big Python script, even though it is broken up into sections. This means that you could create a Turtle in one cell, move it in a later cell, and then `wait_for_user()` in yet another. Despite this, it might be easier to treat each cell in this assignment as a separate script, creating a new world at the beginning and destroying it at the end of each."
   ]
  },
  {
   "cell_type": "markdown",
   "metadata": {},
   "source": [
    "### Get started\n",
    "\n",
    "Run the code in the cell below and make sure everything works. You should see brave Alice spring into the world and run forward. You can close the window when you're done by clicking on the 'X'. If this simple test doesn't work, check your swampy install (especially if you get an `ImportError`) and ask for help."
   ]
  },
  {
   "cell_type": "code",
   "execution_count": 1,
   "metadata": {
    "collapsed": true
   },
   "outputs": [],
   "source": [
    "from swampy.TurtleWorld import *\n",
    "\n",
    "# Create the world, and a turtle to put in it\n",
    "world = TurtleWorld()\n",
    "alice = Turtle()\n",
    "\n",
    "# Get moving, turtle!\n",
    "fd(alice, 50)\n",
    "\n",
    "# Wait for the user to close the window\n",
    "wait_for_user()"
   ]
  },
  {
   "cell_type": "markdown",
   "metadata": {
    "is_question": true,
    "problem": "Section 4.3"
   },
   "source": [
    "### Section 4.3 exercises\n",
    "Work through exercises 1-5 in Section 4.3, creating the `square`, `polygon`, `circle`, and `arc` functions. You can reference Allen's solutions, but please try the problems on your own first."
   ]
  },
  {
   "cell_type": "code",
   "execution_count": 2,
   "metadata": {
    "collapsed": false,
    "solution": "Section 4.3"
   },
   "outputs": [
    {
     "name": "stdout",
     "output_type": "stream",
     "text": [
      "<swampy.TurtleWorld.Turtle object at 0x37d0110>\n"
     ]
    }
   ],
   "source": [
    "def square(t):\n",
    "\t\"\"\"\n",
    "\tTakes in a turtle, already created using TurtleWorld, as an argument and has the turtle draw a square.\n",
    "\t\"\"\"\n",
    "\tfor i in range(4):\n",
    "\t\tfd(bob, 100)\n",
    "\t\tlt(bob)\n",
    "\n",
    "\twait_for_user()\n",
    "\n",
    "\n",
    "from swampy.TurtleWorld import *\n",
    "\n",
    "world = TurtleWorld()\n",
    "bob = Turtle()\n",
    "print bob\n",
    "\n",
    "square(bob)"
   ]
  },
  {
   "cell_type": "code",
   "execution_count": 5,
   "metadata": {
    "collapsed": false
   },
   "outputs": [
    {
     "name": "stdout",
     "output_type": "stream",
     "text": [
      "<swampy.TurtleWorld.Turtle object at 0x37d0450>\n"
     ]
    }
   ],
   "source": [
    "def square(t, length):\n",
    "\t\"\"\"\n",
    "\tTakes in a turtle, already created using TurtleWorld, as an argument and has the turtle draw a square of length also given as an argument.\n",
    "\t\"\"\"\n",
    "\tfor i in range(4):\n",
    "\t\tfd(bob, length)\n",
    "\t\tlt(bob)\n",
    "\n",
    "\twait_for_user()\n",
    "\n",
    "\n",
    "from swampy.TurtleWorld import *\n",
    "\n",
    "world = TurtleWorld()\n",
    "bob = Turtle()\n",
    "print bob\n",
    "\n",
    "square(bob, 21.3)"
   ]
  },
  {
   "cell_type": "code",
   "execution_count": 6,
   "metadata": {
    "collapsed": false
   },
   "outputs": [
    {
     "name": "stdout",
     "output_type": "stream",
     "text": [
      "<swampy.TurtleWorld.Turtle object at 0x37d0810>\n"
     ]
    }
   ],
   "source": [
    "def polygon(t, length, n):\n",
    "\t\"\"\"\n",
    "\tTakes in a turtle, already created using TurtleWorld, as an argument and has the turtle draw a polygon.\n",
    "\tAlso takes in the length of the polygon sides, as well as the number of sides (n).\n",
    "\t\"\"\"\n",
    "\tdegrees = 360 / n #establishing the necessary degree measurement of each turn\n",
    "\tfor i in range(n):\n",
    "\t\tfd(bob, length)\n",
    "\t\tlt(bob, degrees) #bob will now turn a certain number of degrees to the left, rather than 90\n",
    "\n",
    "\twait_for_user()\n",
    "\n",
    "\n",
    "from swampy.TurtleWorld import *\n",
    "\n",
    "world = TurtleWorld()\n",
    "bob = Turtle()\n",
    "print bob\n",
    "\n",
    "polygon(bob, 50, 5)"
   ]
  },
  {
   "cell_type": "code",
   "execution_count": 7,
   "metadata": {
    "collapsed": false
   },
   "outputs": [
    {
     "name": "stdout",
     "output_type": "stream",
     "text": [
      "<swampy.TurtleWorld.Turtle object at 0x37d0cd0>\n"
     ]
    }
   ],
   "source": [
    "def polygon(t, length, n):\n",
    "\t\"\"\"\n",
    "\tTakes in a turtle, already created using TurtleWorld, as an argument and has the turtle draw a polygon.\n",
    "\tAlso takes in the length of the polygon sides, as well as the number of sides (n).\n",
    "\t\"\"\"\n",
    "\tdegrees = 360.0 / n #establishing the necessary degree measurement of each turn\n",
    "\tfor i in range(n):\n",
    "\t\tfd(t, length)\n",
    "\t\tlt(t, degrees) #bob will now turn a certain number of degrees to the left, rather than 90\n",
    "\n",
    "\twait_for_user()\n",
    "\n",
    "\n",
    "from swampy.TurtleWorld import *\n",
    "\n",
    "world = TurtleWorld()\n",
    "bob = Turtle()\n",
    "print bob\n",
    "\n",
    "def circle(t, r):\n",
    "\t\"\"\"\n",
    "\tTakes in a turtle and a radius, then uses polygon to draw a full circle\n",
    "\t\"\"\"\n",
    "\tfrom math import pi\n",
    "\tn = 500 #arbitrary number that's high enough to make a decent circle\n",
    "\tlength = (2 * pi * r) / n #yay for math\n",
    "\tt.delay = 0.01 #bob's really slow without this\n",
    "\tpolygon(t, length, n)\n",
    "\n",
    "circle(bob, 25)"
   ]
  },
  {
   "cell_type": "code",
   "execution_count": 8,
   "metadata": {
    "collapsed": false
   },
   "outputs": [
    {
     "name": "stdout",
     "output_type": "stream",
     "text": [
      "<swampy.TurtleWorld.Turtle object at 0x37d0b50>\n"
     ]
    }
   ],
   "source": [
    "from swampy.TurtleWorld import *\n",
    "\n",
    "world = TurtleWorld()\n",
    "bob = Turtle()\n",
    "print bob\n",
    "\n",
    "def arc(t, r, angle):\n",
    "\t\"\"\"\n",
    "\tTakes in a turtle, a radius, and an interior angle,\n",
    "\tthen has the turtle draw an arc of the given radius and angle.\n",
    "\t\"\"\"\n",
    "\tfrom math import pi\n",
    "\tn = 500 #arbitrary number that's high enough to make a decent arc\n",
    "\tlength = (2 * pi * r) / n #yay for math\n",
    "\tt.delay = 0.01 #bob's really slow without this\n",
    "\tdegrees = float(angle) / n #establishing the necessary degree measurement of each turn\n",
    "\tfor i in range(n):\n",
    "\t\tfd(t, length)\n",
    "\t\tlt(t, degrees) #bob will now turn a certain number of degrees to the left, rather than 90\n",
    "\n",
    "\twait_for_user()\n",
    "\n",
    "arc(bob, 25, 90)"
   ]
  },
  {
   "cell_type": "markdown",
   "metadata": {
    "is_question": true,
    "problem": "More fun"
   },
   "source": [
    "### Exercise: More fun with Turtles!\n",
    "Complete at least one of Exercise 2, 3, 4, or 5. If you come up with some cool drawings you'd like to share with the rest of the class, let us know!"
   ]
  },
  {
   "cell_type": "markdown",
   "metadata": {},
   "source": [
    "Working on Exercise 2: each iteration is shown in a new cell below."
   ]
  },
  {
   "cell_type": "code",
   "execution_count": 2,
   "metadata": {
    "collapsed": false,
    "solution": "More fun"
   },
   "outputs": [
    {
     "name": "stdout",
     "output_type": "stream",
     "text": [
      "<swampy.TurtleWorld.Turtle object at 0x31b1890>\n"
     ]
    }
   ],
   "source": [
    "from swampy.TurtleWorld import *\n",
    "\n",
    "world = TurtleWorld()\n",
    "bob = Turtle()\n",
    "print bob\n",
    "\n",
    "angle = 90 #arc angle\n",
    "r = 50 #radius of the circle whose arc becomes the petal's edge\n",
    "\n",
    "from math import pi\n",
    "n = 500 #arbitrary number that's high enough to make a decent arc\n",
    "length = (2 * pi * r) / n #yay for math\n",
    "bob.delay = 0.01 #bob's really slow without this\n",
    "degrees = float(angle) / n #establishing the necessary degree measurement of each turn\n",
    "for i in range(n):\n",
    "\tfd(bob, length)\n",
    "\tlt(bob, degrees) #bob will now turn a certain number of degrees to the left, rather than 90\n",
    "\n",
    "wait_for_user()"
   ]
  },
  {
   "cell_type": "code",
   "execution_count": 3,
   "metadata": {
    "collapsed": false
   },
   "outputs": [
    {
     "name": "stdout",
     "output_type": "stream",
     "text": [
      "<swampy.TurtleWorld.Turtle object at 0x342d310>\n"
     ]
    }
   ],
   "source": [
    "from swampy.TurtleWorld import *\n",
    "\n",
    "world = TurtleWorld()\n",
    "bob = Turtle()\n",
    "print bob\n",
    "\n",
    "angle = 90 #arc angle\n",
    "r = 50 #radius of the circle whose arc becomes the petal's edge\n",
    "\n",
    "def petal(t, angle, r):\n",
    "\t\"\"\"\n",
    "\tCurrently, takes in a turtle, an angle for the starting arc of the petal,\n",
    "\tand a radius for the petal's arc, then returns an arc which completes\n",
    "\tone side of the petal.\n",
    "\t\"\"\"\n",
    "\tfrom math import pi\n",
    "\tn = 500 #arbitrary number that's high enough to make a decent arc\n",
    "\tlength = (2 * pi * r) / n #yay for math\n",
    "\tt.delay = 0.01 #bob's really slow without this\n",
    "\tdegrees = float(angle) / n #need to base this off of the number of petals desired\n",
    "\tfor i in range(n):\n",
    "\t\tfd(t, length)\n",
    "\t\tlt(t, degrees) #bob will now turn a certain number of degrees to the left, rather than 90\n",
    "\n",
    "\twait_for_user()\n",
    "\n",
    "petal(bob, angle, r)"
   ]
  },
  {
   "cell_type": "code",
   "execution_count": 4,
   "metadata": {
    "collapsed": false
   },
   "outputs": [
    {
     "name": "stdout",
     "output_type": "stream",
     "text": [
      "<swampy.TurtleWorld.Turtle object at 0x355f790>\n"
     ]
    }
   ],
   "source": [
    "from swampy.TurtleWorld import *\n",
    "\n",
    "world = TurtleWorld()\n",
    "bob = Turtle()\n",
    "print bob\n",
    "\n",
    "angle = 90\n",
    "r = 50\n",
    "\n",
    "def petal(t, angle, r):\n",
    "\t\"\"\"\n",
    "\tCurrently, takes in a turtle, an angle for the starting arc of the petal,\n",
    "\tand a radius for the petal's arc, then returns an arc which completes\n",
    "\tone side of the petal.\n",
    "\t\"\"\"\n",
    "\tfrom math import pi\n",
    "\tn = 500 #arbitrary number that's high enough to make a decent arc\n",
    "\tlength = (2 * pi * r) / n #yay for math\n",
    "\tt.delay = 0.01 #bob's really slow without this\n",
    "\tdegrees = float(angle) / n #need to base this off of the number of petals desired\n",
    "\tfor i in range(n):\n",
    "\t\tfd(t, length)\n",
    "\t\tlt(t, degrees) #bob will now turn a certain number of degrees to the left, rather than 90\n",
    "\n",
    "\twait_for_user()\n",
    "\n",
    "def get_angle(petal_length, r):\n",
    "\t\"\"\"\n",
    "\tTakes in the desired length of the petals and radius of their arcs, then determines the angle of those arcs.\n",
    "\t\"\"\"\n",
    "\timport math\n",
    "\tarc_bisect = math.sqrt(r**2 + (petal_length / 2)**2) #arc_bisect is the angle bisector of the arc, and its length (from center angle to chord, here known as petal_length) is important for determining angle\n",
    "\thalf_angle = math.degrees(math.cos(arc_bisect / r)) #half_angle is half of the central angle from which the petal's arc is formed\n",
    "\tangle = half_angle * 2\n",
    "\treturn angle\n",
    "\n",
    "petal(bob, angle, r)"
   ]
  },
  {
   "cell_type": "code",
   "execution_count": 7,
   "metadata": {
    "collapsed": false
   },
   "outputs": [
    {
     "name": "stdout",
     "output_type": "stream",
     "text": [
      "<swampy.TurtleWorld.Turtle object at 0x381c090>\n"
     ]
    }
   ],
   "source": [
    "from swampy.TurtleWorld import *\n",
    "\n",
    "world = TurtleWorld()\n",
    "bob = Turtle()\n",
    "print bob\n",
    "\n",
    "angle = 90\n",
    "r = 50\n",
    "\n",
    "def get_angle(petal_length, r):\n",
    "\t\"\"\"\n",
    "\tTakes in the desired length of the petals and radius of their arc, then determines the angle of that arc.\n",
    "\t\"\"\"\n",
    "\timport math\n",
    "\tarc_bisect = math.sqrt(r**2 + (petal_length / 2)**2) #arc_bisect is the angle bisector of the arc, and its length (from center angle to chord, here known as petal_length) is important for determining angle\n",
    "\thalf_angle = math.degrees(math.cos(arc_bisect / r)) #half_angle is half of the central angle from which the petal's arc is formed\n",
    "\tangle = half_angle * 2\n",
    "\treturn angle\n",
    "\n",
    "def petal(t, petal_length, r):\n",
    "\t\"\"\"\n",
    "\tTakes in a turtle, a length for each petal, and a radius for the petal's arc.\n",
    "\tReturns an arc which completes one side of a single petal.\n",
    "\t\"\"\"\n",
    "\tfrom math import pi\n",
    "\tangle = get_angle(petal_length, r)\n",
    "\tn = 500 #arbitrary number that's high enough to make a decent arc\n",
    "\tlength = (2 * pi * r) / n #yay for math\n",
    "\tt.delay = 0.01 #bob's really slow without this\n",
    "\tdegrees = float(angle) / n #need to base this off of the number of petals desired\n",
    "\tfor i in range(n):\n",
    "\t\tfd(t, length)\n",
    "\t\tlt(t, degrees) #bob will now turn a certain number of degrees to the left, rather than 90\n",
    "\tlt(t, 180 - angle) #bob needs to turn this much to create the other side of the petal\n",
    "\tfor i in range(n):\n",
    "\t\tfd(t, length)\n",
    "\t\tlt(t, degrees) #now we have a full petal!\n",
    "\n",
    "\twait_for_user()\n",
    "\n",
    "\n",
    "petal(bob, 10, r)"
   ]
  },
  {
   "cell_type": "code",
   "execution_count": 8,
   "metadata": {
    "collapsed": false
   },
   "outputs": [
    {
     "name": "stdout",
     "output_type": "stream",
     "text": [
      "<swampy.TurtleWorld.Turtle object at 0x31b1c90>\n"
     ]
    }
   ],
   "source": [
    "from swampy.TurtleWorld import *\n",
    "\n",
    "world = TurtleWorld()\n",
    "bob = Turtle()\n",
    "print bob\n",
    "\n",
    "r = 50\n",
    "\n",
    "def get_angle(petal_length, r):\n",
    "\t\"\"\"\n",
    "\tTakes in the desired length of the petals and radius of their arcs, then determines the angle of those arcs.\n",
    "\t\"\"\"\n",
    "\timport math\n",
    "\tarc_bisect = math.sqrt(r**2 + (petal_length / 2)**2) #arc_bisect is the angle bisector of the arc, and its length (from center angle to chord, here known as petal_length) is important for determining angle\n",
    "\thalf_angle = math.degrees(math.cos(arc_bisect / r)) #half_angle is half of the central angle from which the petal's arc is formed\n",
    "\tangle = half_angle * 2\n",
    "\treturn angle\n",
    "\n",
    "def petal(t, petal_length, r, n, degrees):\n",
    "\t\"\"\"\n",
    "\tTakes in a turtle, a length for each petal, and a radius for the petal's arc.\n",
    "\tReturns an arc which completes one side of a single petal.\n",
    "\t\"\"\"\n",
    "\tfrom math import pi\n",
    "\tangle = get_angle(petal_length, r)\n",
    "\tarc_seg_length = (2 * pi * r) / n #yay for math\n",
    "\tt.delay = 0.0001 #speedy gonzalez (I got impatient)\n",
    "\tfor i in range(n):\n",
    "\t\tfd(t, arc_seg_length)\n",
    "\t\tlt(t, degrees) #bob will now turn a certain number of degrees to the left, rather than 90\n",
    "\tlt(t, 180 - angle) #bob needs to turn this much to create the other side of the petal\n",
    "\tfor i in range(n):\n",
    "\t\tfd(t, arc_seg_length)\n",
    "\t\tlt(t, degrees) #now we have a full petal!\n",
    "\n",
    "def flower(t, petal_length, r, petal_num):\n",
    "\t\"\"\"\n",
    "\tTakes in a turtle, a length for each petal, a radius for the petals' arc, and a number of petals.\n",
    "\tReturns a flower of appropriate size with the desired number of petals.\n",
    "\t\"\"\"\n",
    "\tn = 500 #arbitrary number of segments that's high enough to make a decent arc\n",
    "\tangle = get_angle(petal_length, r)\n",
    "\tdegrees = float(angle) / n\n",
    "\tturn_deg = 360.0 / petal_num #similarly to the polygon function, this determines the angle between petals\n",
    "\tfor count in range(petal_num):\n",
    "\t\tpetal(t, petal_length, r, n, degrees) #generates a petal each time we loop through\n",
    "\t\tlt(t, (180 - angle) + turn_deg) #makes sure that the next petal is appropriately angled away from the previous one\n",
    "\t\t#turn_deg only applies with reference to the original direction. That's why (180-angle) is there;\n",
    "\t\t#we need our turtle to face the original direction again before turning the appropriate amount to start the next petal\n",
    "\twait_for_user()\n",
    "\n",
    "\n",
    "flower(bob, 10, r, 8)"
   ]
  },
  {
   "cell_type": "markdown",
   "metadata": {},
   "source": [
    "This code could definitely be optimized - I'm sure, at least, that there must be a way to make this work without asking for the radius and petal length, but rather just the number of petals. But I'm happy leaving it like this for now because it works and I spent hours on it!"
   ]
  },
  {
   "cell_type": "markdown",
   "metadata": {},
   "source": [
    "## Reading Journal feedback\n",
    "\n",
    "Have any comments on this Reading Journal? Feel free to leave them below and we'll read them when you submit your journal entry. This could include suggestions to improve the exercises, topics you'd like to see covered in class next time, or other feedback.\n",
    "\n",
    "If you have Python questions or run into problems while completing the reading, you should post them to Piazza instead so you can get a quick response before your journal is submitted."
   ]
  },
  {
   "cell_type": "markdown",
   "metadata": {},
   "source": [
    " "
   ]
  }
 ],
 "metadata": {
  "kernelspec": {
   "display_name": "Python 2",
   "language": "python",
   "name": "python2"
  },
  "language_info": {
   "codemirror_mode": {
    "name": "ipython",
    "version": 2
   },
   "file_extension": ".py",
   "mimetype": "text/x-python",
   "name": "python",
   "nbconvert_exporter": "python",
   "pygments_lexer": "ipython2",
   "version": "2.7.3"
  }
 },
 "nbformat": 4,
 "nbformat_minor": 0
}
